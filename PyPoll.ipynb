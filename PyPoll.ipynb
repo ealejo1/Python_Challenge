{
 "cells": [
  {
   "cell_type": "code",
   "execution_count": 3,
   "metadata": {},
   "outputs": [
    {
     "name": "stdout",
     "output_type": "stream",
     "text": [
      "  Election Results\n",
      "  -------------------------\n",
      "  Total Votes: 3521001\n",
      "  -------------------------\n",
      "  Khan: 63.000% (2218231)\n",
      "  Correy: 20.000% (704200)\n",
      "  Li: 14.000% (492940)\n",
      "  O'Tooley: 3.000% (105630)\n",
      "  -------------------------\n",
      "  Winner: Khan\n",
      "  -------------------------\n"
     ]
    }
   ],
   "source": [
    "# List all dependencies\n",
    "import csv\n",
    "import os\n",
    "\n",
    "\n",
    "# Determine the files to load and output. \n",
    "file_to_load = os.path.join(\"election_data.csv\")\n",
    "file_to_output = os.path.join(\"election_analysis.txt\")\n",
    "\n",
    "total_votes = 0\n",
    "number_candidates = 0\n",
    "candidate_list = []\n",
    "candidate_votes = {}\n",
    "max_votes = -1\n",
    "\n",
    "# Read the csv file and convert it into a list of dictionaries.\n",
    "with open(file_to_load) as poll_data:\n",
    "    reader = csv.DictReader(poll_data)\n",
    "    \n",
    "    for row in reader:\n",
    "        current_candidate = row['Candidate']\n",
    "        if current_candidate not in candidate_list:\n",
    "            number_candidates = number_candidates + 1\n",
    "            candidate_list.append(current_candidate)\n",
    "            candidate_votes[current_candidate] = 0\n",
    "            \n",
    "        candidate_votes[current_candidate]=candidate_votes[current_candidate] + 1\n",
    "        total_votes = total_votes + 1\n",
    "        \n",
    "        if candidate_votes[current_candidate] > max_votes :\n",
    "            max_votes = candidate_votes[current_candidate]\n",
    "            max_candidate = current_candidate\n",
    "\n",
    "\n",
    "# Determine Election Results, including election winner. \n",
    "\n",
    "\n",
    "line1 = '  Election Results'\n",
    "line2 = '  -------------------------'\n",
    "line3 = ('  Total Votes: %d' %(total_votes))\n",
    "line4 = '  -------------------------'\n",
    "output = line1 + '\\n' + line2 + '\\n' + line3 + '\\n' + line4\n",
    "\n",
    "for name in candidate_list :\n",
    "    linex = ('  %s: %.3f%% (%d)' %(name,  100*candidate_votes[name]/(0.0+total_votes), candidate_votes[name]))\n",
    "    output = output + '\\n' + linex\n",
    "\n",
    "output = output + '\\n' + '  -------------------------'\n",
    "output = output + '\\n' + ('  Winner: %s' %max_candidate)\n",
    "output = output + '\\n' + '  -------------------------'\n",
    "\n",
    "print(output)\n",
    "with open(file_to_output,'w') as outputfile:\n",
    "        outputfile.write(output)"
   ]
  },
  {
   "cell_type": "code",
   "execution_count": null,
   "metadata": {},
   "outputs": [],
   "source": []
  },
  {
   "cell_type": "code",
   "execution_count": null,
   "metadata": {},
   "outputs": [],
   "source": []
  },
  {
   "cell_type": "code",
   "execution_count": null,
   "metadata": {},
   "outputs": [],
   "source": []
  }
 ],
 "metadata": {
  "kernelspec": {
   "display_name": "Python 3",
   "language": "python",
   "name": "python3"
  },
  "language_info": {
   "codemirror_mode": {
    "name": "ipython",
    "version": 3
   },
   "file_extension": ".py",
   "mimetype": "text/x-python",
   "name": "python",
   "nbconvert_exporter": "python",
   "pygments_lexer": "ipython3",
   "version": "3.7.4"
  }
 },
 "nbformat": 4,
 "nbformat_minor": 2
}
